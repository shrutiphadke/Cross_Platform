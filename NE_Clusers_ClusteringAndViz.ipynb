{
 "cells": [
  {
   "cell_type": "code",
   "execution_count": 1,
   "metadata": {},
   "outputs": [],
   "source": [
    "import pandas as pd\n",
    "import csv\n",
    "from collections import defaultdict\n",
    "import numpy as np\n",
    "import matplotlib.pyplot as plt\n",
    "import seaborn"
   ]
  },
  {
   "cell_type": "code",
   "execution_count": 2,
   "metadata": {},
   "outputs": [],
   "source": [
    "#read vectors and names\n",
    "\n",
    "frame = pd.read_csv(\"/home/rin/CrossPlatform/Code/entity_vecs_onlyPROPN.csv\", header=None)"
   ]
  },
  {
   "cell_type": "code",
   "execution_count": 3,
   "metadata": {},
   "outputs": [],
   "source": [
    "vectors = frame.iloc[:, 1:]"
   ]
  },
  {
   "cell_type": "code",
   "execution_count": 4,
   "metadata": {},
   "outputs": [
    {
     "data": {
      "text/html": [
       "<div>\n",
       "<style scoped>\n",
       "    .dataframe tbody tr th:only-of-type {\n",
       "        vertical-align: middle;\n",
       "    }\n",
       "\n",
       "    .dataframe tbody tr th {\n",
       "        vertical-align: top;\n",
       "    }\n",
       "\n",
       "    .dataframe thead th {\n",
       "        text-align: right;\n",
       "    }\n",
       "</style>\n",
       "<table border=\"1\" class=\"dataframe\">\n",
       "  <thead>\n",
       "    <tr style=\"text-align: right;\">\n",
       "      <th></th>\n",
       "      <th>1</th>\n",
       "      <th>2</th>\n",
       "      <th>3</th>\n",
       "      <th>4</th>\n",
       "      <th>5</th>\n",
       "      <th>6</th>\n",
       "      <th>7</th>\n",
       "      <th>8</th>\n",
       "      <th>9</th>\n",
       "      <th>10</th>\n",
       "      <th>...</th>\n",
       "      <th>91</th>\n",
       "      <th>92</th>\n",
       "      <th>93</th>\n",
       "      <th>94</th>\n",
       "      <th>95</th>\n",
       "      <th>96</th>\n",
       "      <th>97</th>\n",
       "      <th>98</th>\n",
       "      <th>99</th>\n",
       "      <th>100</th>\n",
       "    </tr>\n",
       "  </thead>\n",
       "  <tbody>\n",
       "    <tr>\n",
       "      <th>0</th>\n",
       "      <td>0.001111</td>\n",
       "      <td>0.007694</td>\n",
       "      <td>-0.013193</td>\n",
       "      <td>0.002277</td>\n",
       "      <td>0.001425</td>\n",
       "      <td>0.008855</td>\n",
       "      <td>0.001344</td>\n",
       "      <td>-0.003634</td>\n",
       "      <td>0.002648</td>\n",
       "      <td>-0.001622</td>\n",
       "      <td>...</td>\n",
       "      <td>0.000936</td>\n",
       "      <td>0.005777</td>\n",
       "      <td>0.006525</td>\n",
       "      <td>0.000239</td>\n",
       "      <td>0.003887</td>\n",
       "      <td>0.002487</td>\n",
       "      <td>-0.001279</td>\n",
       "      <td>-0.005166</td>\n",
       "      <td>0.005642</td>\n",
       "      <td>0.000028</td>\n",
       "    </tr>\n",
       "    <tr>\n",
       "      <th>1</th>\n",
       "      <td>0.002282</td>\n",
       "      <td>0.013210</td>\n",
       "      <td>-0.013372</td>\n",
       "      <td>0.007318</td>\n",
       "      <td>0.002672</td>\n",
       "      <td>0.015021</td>\n",
       "      <td>0.005350</td>\n",
       "      <td>0.001469</td>\n",
       "      <td>0.000112</td>\n",
       "      <td>-0.003898</td>\n",
       "      <td>...</td>\n",
       "      <td>0.003916</td>\n",
       "      <td>0.006667</td>\n",
       "      <td>0.007948</td>\n",
       "      <td>-0.003036</td>\n",
       "      <td>-0.000457</td>\n",
       "      <td>0.007797</td>\n",
       "      <td>-0.005251</td>\n",
       "      <td>-0.005143</td>\n",
       "      <td>0.003674</td>\n",
       "      <td>-0.002303</td>\n",
       "    </tr>\n",
       "    <tr>\n",
       "      <th>2</th>\n",
       "      <td>-0.006058</td>\n",
       "      <td>0.035130</td>\n",
       "      <td>-0.019281</td>\n",
       "      <td>0.000566</td>\n",
       "      <td>0.006083</td>\n",
       "      <td>0.019783</td>\n",
       "      <td>0.015781</td>\n",
       "      <td>-0.008688</td>\n",
       "      <td>0.004104</td>\n",
       "      <td>-0.013092</td>\n",
       "      <td>...</td>\n",
       "      <td>0.001131</td>\n",
       "      <td>0.011191</td>\n",
       "      <td>0.012964</td>\n",
       "      <td>-0.009249</td>\n",
       "      <td>0.003564</td>\n",
       "      <td>0.008661</td>\n",
       "      <td>-0.001564</td>\n",
       "      <td>-0.012390</td>\n",
       "      <td>0.010775</td>\n",
       "      <td>-0.009490</td>\n",
       "    </tr>\n",
       "    <tr>\n",
       "      <th>3</th>\n",
       "      <td>-0.008021</td>\n",
       "      <td>0.041882</td>\n",
       "      <td>-0.023921</td>\n",
       "      <td>0.000074</td>\n",
       "      <td>0.012999</td>\n",
       "      <td>0.030620</td>\n",
       "      <td>0.011261</td>\n",
       "      <td>-0.007864</td>\n",
       "      <td>0.011873</td>\n",
       "      <td>-0.016689</td>\n",
       "      <td>...</td>\n",
       "      <td>-0.004126</td>\n",
       "      <td>0.012571</td>\n",
       "      <td>0.018760</td>\n",
       "      <td>-0.000521</td>\n",
       "      <td>0.009847</td>\n",
       "      <td>0.016102</td>\n",
       "      <td>-0.008885</td>\n",
       "      <td>-0.014268</td>\n",
       "      <td>0.010243</td>\n",
       "      <td>-0.005245</td>\n",
       "    </tr>\n",
       "    <tr>\n",
       "      <th>4</th>\n",
       "      <td>0.013215</td>\n",
       "      <td>1.012015</td>\n",
       "      <td>-0.852180</td>\n",
       "      <td>0.490863</td>\n",
       "      <td>0.338856</td>\n",
       "      <td>0.683575</td>\n",
       "      <td>0.696290</td>\n",
       "      <td>-0.108314</td>\n",
       "      <td>0.155370</td>\n",
       "      <td>-0.419443</td>\n",
       "      <td>...</td>\n",
       "      <td>-0.025576</td>\n",
       "      <td>0.228806</td>\n",
       "      <td>0.409325</td>\n",
       "      <td>-0.104014</td>\n",
       "      <td>0.052956</td>\n",
       "      <td>0.272815</td>\n",
       "      <td>-0.410445</td>\n",
       "      <td>-0.741947</td>\n",
       "      <td>0.190902</td>\n",
       "      <td>-0.510724</td>\n",
       "    </tr>\n",
       "  </tbody>\n",
       "</table>\n",
       "<p>5 rows × 100 columns</p>\n",
       "</div>"
      ],
      "text/plain": [
       "        1         2         3         4         5         6         7    \\\n",
       "0  0.001111  0.007694 -0.013193  0.002277  0.001425  0.008855  0.001344   \n",
       "1  0.002282  0.013210 -0.013372  0.007318  0.002672  0.015021  0.005350   \n",
       "2 -0.006058  0.035130 -0.019281  0.000566  0.006083  0.019783  0.015781   \n",
       "3 -0.008021  0.041882 -0.023921  0.000074  0.012999  0.030620  0.011261   \n",
       "4  0.013215  1.012015 -0.852180  0.490863  0.338856  0.683575  0.696290   \n",
       "\n",
       "        8         9         10     ...          91        92        93   \\\n",
       "0 -0.003634  0.002648 -0.001622    ...     0.000936  0.005777  0.006525   \n",
       "1  0.001469  0.000112 -0.003898    ...     0.003916  0.006667  0.007948   \n",
       "2 -0.008688  0.004104 -0.013092    ...     0.001131  0.011191  0.012964   \n",
       "3 -0.007864  0.011873 -0.016689    ...    -0.004126  0.012571  0.018760   \n",
       "4 -0.108314  0.155370 -0.419443    ...    -0.025576  0.228806  0.409325   \n",
       "\n",
       "        94        95        96        97        98        99        100  \n",
       "0  0.000239  0.003887  0.002487 -0.001279 -0.005166  0.005642  0.000028  \n",
       "1 -0.003036 -0.000457  0.007797 -0.005251 -0.005143  0.003674 -0.002303  \n",
       "2 -0.009249  0.003564  0.008661 -0.001564 -0.012390  0.010775 -0.009490  \n",
       "3 -0.000521  0.009847  0.016102 -0.008885 -0.014268  0.010243 -0.005245  \n",
       "4 -0.104014  0.052956  0.272815 -0.410445 -0.741947  0.190902 -0.510724  \n",
       "\n",
       "[5 rows x 100 columns]"
      ]
     },
     "execution_count": 4,
     "metadata": {},
     "output_type": "execute_result"
    }
   ],
   "source": [
    "vectors.head()"
   ]
  },
  {
   "cell_type": "code",
   "execution_count": 5,
   "metadata": {},
   "outputs": [],
   "source": [
    "from sklearn.manifold import TSNE\n",
    "from sklearn.decomposition import PCA\n",
    "#tsne = TSNE(n_components=2, random_state=0)\n",
    "#tsne_2d = tsne.fit_transform(vectors.values) \n",
    "\n",
    "pca = PCA( random_state=0)\n",
    "pca_2d= pca.fit_transform(vectors.values)"
   ]
  },
  {
   "cell_type": "code",
   "execution_count": 6,
   "metadata": {
    "scrolled": true
   },
   "outputs": [
    {
     "name": "stdout",
     "output_type": "stream",
     "text": [
      "Populating the interactive namespace from numpy and matplotlib\n"
     ]
    },
    {
     "data": {
      "text/plain": [
       "(0, 5)"
      ]
     },
     "execution_count": 6,
     "metadata": {},
     "output_type": "execute_result"
    },
    {
     "data": {
      "image/png": "[encoded data removed]",
      "text/plain": [
       "<Figure size 432x288 with 1 Axes>"
      ]
     },
     "metadata": {
      "needs_background": "light"
     },
     "output_type": "display_data"
    }
   ],
   "source": [
    "%pylab inline\n",
    "ax=plot(pca.explained_variance_ratio_)\n",
    "gca().set_xlim((0, 5))"
   ]
  },
  {
   "cell_type": "code",
   "execution_count": 7,
   "metadata": {},
   "outputs": [
    {
     "data": {
      "text/plain": [
       "0.9826435111168063"
      ]
     },
     "execution_count": 7,
     "metadata": {},
     "output_type": "execute_result"
    }
   ],
   "source": [
    "pca.explained_variance_ratio_[:5].sum()\n"
   ]
  },
  {
   "cell_type": "code",
   "execution_count": 12,
   "metadata": {},
   "outputs": [],
   "source": [
    "import bokeh\n",
    "import bokeh.models as bmo\n",
    "from bokeh.palettes import d3, viridis\n",
    "from bokeh.models import HoverTool, LabelSet\n",
    "from bokeh.plotting import figure, show, ColumnDataSource\n",
    "# from bokeh.models import ColumnDataSource, Range1d, LabelSet, Label\n",
    "\n",
    "x = pca_2d[:, 0]\n",
    "y = pca_2d[:, 1]\n",
    "names = frame.iloc[:, 0]\n",
    "\n",
    "source = ColumnDataSource(\n",
    "        data=dict(\n",
    "            x=x,\n",
    "            y=y,\n",
    "            names=names,\n",
    "            \n",
    "        )\n",
    "    )\n",
    "\n",
    "# Add author names and sizes to mouse-over info.\n",
    "hover = HoverTool(\n",
    "        tooltips=[\n",
    "        (\"entity\", \"@names\"),\n",
    "        ]\n",
    "    )\n",
    "\n",
    "p = figure(tools=[hover, 'crosshair,pan,wheel_zoom,box_zoom,reset,save,lasso_select'], plot_width=1000, plot_height=1000)\n",
    "p.scatter('x', 'y', source=source, \n",
    "          fill_alpha=0.6, line_color=None)\n",
    "labels = LabelSet(x='x', y='y', text='names', level='glyph',\n",
    "              x_offset=0, y_offset=0, source=source, render_mode='canvas', text_font_size=\"6pt\")\n",
    "p.add_layout(labels)\n",
    "\n",
    "show(p)"
   ]
  },
  {
   "cell_type": "code",
   "execution_count": 13,
   "metadata": {},
   "outputs": [],
   "source": [
    "from sklearn.manifold import TSNE\n",
    "from sklearn.decomposition import PCA\n",
    "tsne = TSNE(n_components=2, random_state=0)\n",
    "tsne_2d = tsne.fit_transform(vectors.values) \n"
   ]
  },
  {
   "cell_type": "code",
   "execution_count": 14,
   "metadata": {},
   "outputs": [],
   "source": [
    "import bokeh\n",
    "import bokeh.models as bmo\n",
    "from bokeh.palettes import d3, viridis\n",
    "from bokeh.models import HoverTool, LabelSet\n",
    "from bokeh.plotting import figure, show, ColumnDataSource\n",
    "# from bokeh.models import ColumnDataSource, Range1d, LabelSet, Label\n",
    "\n",
    "x = tsne_2d[:, 0]\n",
    "y = tsne_2d[:, 1]\n",
    "names = frame.iloc[:, 0]\n",
    "\n",
    "source = ColumnDataSource(\n",
    "        data=dict(\n",
    "            x=x,\n",
    "            y=y,\n",
    "            names=names,\n",
    "            \n",
    "        )\n",
    "    )\n",
    "\n",
    "# Add author names and sizes to mouse-over info.\n",
    "hover = HoverTool(\n",
    "        tooltips=[\n",
    "        (\"entity\", \"@names\"),\n",
    "        ]\n",
    "    )\n",
    "\n",
    "p = figure(tools=[hover, 'crosshair,pan,wheel_zoom,box_zoom,reset,save,lasso_select'], plot_width=1000, plot_height=1000)\n",
    "p.scatter('x', 'y', source=source, \n",
    "          fill_alpha=0.6, line_color=None)\n",
    "labels = LabelSet(x='x', y='y', text='names', level='glyph',\n",
    "              x_offset=0, y_offset=0, source=source, render_mode='canvas', text_font_size=\"6pt\")\n",
    "p.add_layout(labels)\n",
    "\n",
    "show(p)"
   ]
  },
  {
   "cell_type": "code",
   "execution_count": null,
   "metadata": {},
   "outputs": [],
   "source": []
  }
 ],
 "metadata": {
  "kernelspec": {
   "display_name": "Python 2",
   "language": "python",
   "name": "python2"
  },
  "language_info": {
   "codemirror_mode": {
    "name": "ipython",
    "version": 2
   },
   "file_extension": ".py",
   "mimetype": "text/x-python",
   "name": "python",
   "nbconvert_exporter": "python",
   "pygments_lexer": "ipython2",
   "version": "2.7.15rc1"
  }
 },
 "nbformat": 4,
 "nbformat_minor": 2
}
