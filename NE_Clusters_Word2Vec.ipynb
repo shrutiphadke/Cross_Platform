{
 "cells": [
  {
   "cell_type": "code",
   "execution_count": 1,
   "metadata": {},
   "outputs": [],
   "source": [
    "import os\n",
    "import sys\n",
    "import gensim\n",
    "from collections import defaultdict\n",
    "import pickle\n",
    "import spacy"
   ]
  },
  {
   "cell_type": "markdown",
   "metadata": {},
   "source": [
    "### This file create vectors for noun phrases in the vocabulary. It first loads vocabulary, documents and disctionary. Performs word2vec skipgram and then saves the vectors in a csv. Some vocabulary doesnt have vectors despite of min_count of 1 because in the previours steps documents with character length of less than 20 were filtered out. This can be changed and toyed with. "
   ]
  },
  {
   "cell_type": "code",
   "execution_count": 2,
   "metadata": {},
   "outputs": [],
   "source": [
    "#Load vocabulary\n",
    "\n",
    "with open(\"/home/rin/CrossPlatform/Code/entity_vocab_onlyPROPN\", 'r') as vfile:\n",
    "    vocab = pickle.load(vfile)\n",
    "    \n",
    "#Load corpus\n",
    "with open(\"/home/rin/CrossPlatform/Code/entity_corpus_onlyPROPN\",'r') as cfile:\n",
    "    corpus = pickle.load(cfile)\n",
    "    \n",
    "#Load dictionary that points phrases to underscore joined phrases\n",
    "with open(\"/home/rin/CrossPlatform/Code/entity_dict_onlyPROPN\", 'r') as dfile:\n",
    "    vocab_dict = pickle.load(dfile)"
   ]
  },
  {
   "cell_type": "code",
   "execution_count": 3,
   "metadata": {},
   "outputs": [],
   "source": [
    "#Text cleaner function\n",
    "\n",
    "import re\n",
    "from text_cleaner import remove, keep\n",
    "from string import punctuation\n",
    "from text_cleaner.processor.common import ASCII\n",
    "from text_cleaner.processor.chinese import CHINESE, CHINESE_SYMBOLS_AND_PUNCTUATION\n",
    "from text_cleaner.processor.misc import RESTRICT_URL\n",
    "from nltk.corpus import stopwords\n",
    "\n",
    "stopset = list(set(stopwords.words('english')))\n",
    "with open(\"/home/rin/CrossPlatform/Code/stopwords.txt\") as sfile:\n",
    "    for line in sfile:\n",
    "        stopset.append(line.strip().split()[0])\n",
    "        \n",
    "stopset = list(set(stopset))\n",
    "\n",
    "def cleaning2(text):\n",
    "    text = remove(text, [RESTRICT_URL]).lower()\n",
    "    text = \" \".join(text.split(\".\"))\n",
    "    text = \" \".join(text.split(\",\"))\n",
    "    text = \" \".join(text.split(\":\"))\n",
    "    text = \" \".join(text.split(\"!\"))\n",
    "    #text = re.sub(r'\\b(?:(?:https?|ftp)://)?\\w[\\w-]*(?:\\.[\\w-]+)+\\S*(?<![.,])', ' ', text.lower())\n",
    "    #words = re.findall(r'[a-z.,]+', text.lower())\n",
    "    clean_stop = [w for w in text.split(\" \") if w not in stopset]\n",
    "    return ' '.join(c for c in clean_stop if c not in punctuation)"
   ]
  },
  {
   "cell_type": "code",
   "execution_count": 4,
   "metadata": {},
   "outputs": [],
   "source": [
    "#created stopwords removed, processed docs\n",
    "processed_docs = []\n",
    "for doc in corpus:\n",
    "    processed_docs.append(cleaning2(doc))"
   ]
  },
  {
   "cell_type": "code",
   "execution_count": 5,
   "metadata": {},
   "outputs": [
    {
     "data": {
      "text/plain": [
       "u'livestreaming national press club save persecuted christians launch event'"
      ]
     },
     "execution_count": 5,
     "metadata": {},
     "output_type": "execute_result"
    }
   ],
   "source": [
    "processed_docs[28]"
   ]
  },
  {
   "cell_type": "code",
   "execution_count": 6,
   "metadata": {},
   "outputs": [],
   "source": [
    "#create sentence pool\n",
    "sentences = []\n",
    "\n",
    "for p_d in processed_docs:\n",
    "    sentences.append(p_d.split(\" \"))\n",
    "    "
   ]
  },
  {
   "cell_type": "code",
   "execution_count": 7,
   "metadata": {},
   "outputs": [
    {
     "name": "stdout",
     "output_type": "stream",
     "text": [
      "Word2Vec(vocab=33699, size=100, alpha=0.025)\n",
      "CPU times: user 12 s, sys: 274 ms, total: 12.2 s\n",
      "Wall time: 5.41 s\n"
     ]
    }
   ],
   "source": [
    "%%time\n",
    "from gensim.models import Word2Vec\n",
    "model = Word2Vec(sentences, min_count=1)\n",
    "print(model)"
   ]
  },
  {
   "cell_type": "code",
   "execution_count": 8,
   "metadata": {},
   "outputs": [
    {
     "name": "stdout",
     "output_type": "stream",
     "text": [
      "9\n"
     ]
    },
    {
     "name": "stderr",
     "output_type": "stream",
     "text": [
      "/home/rin/.local/lib/python2.7/site-packages/ipykernel_launcher.py:7: DeprecationWarning: Call to deprecated `__getitem__` (Method will be removed in 4.0.0, use self.wv.__getitem__() instead).\n",
      "  import sys\n"
     ]
    }
   ],
   "source": [
    "#write vectors to the file\n",
    "not_in_voc=0\n",
    "with open(\"/home/rin/CrossPlatform/Code/entity_vecs_onlyPROPN.csv\", \"w\") as cfile:\n",
    "    for v in vocab_dict.keys():\n",
    "        try:\n",
    "            vec = vocab_dict[v]\n",
    "            row = vec + \",\"+  \",\".join(map(str, model[vec]))\n",
    "            cfile.write(row)\n",
    "            cfile.write(\"\\n\")\n",
    "        except:\n",
    "            not_in_voc+=1\n",
    "print not_in_voc       "
   ]
  },
  {
   "cell_type": "code",
   "execution_count": 9,
   "metadata": {},
   "outputs": [
    {
     "name": "stdout",
     "output_type": "stream",
     "text": [
      "271\n"
     ]
    }
   ],
   "source": [
    "print len(vocab_dict.keys())"
   ]
  },
  {
   "cell_type": "code",
   "execution_count": null,
   "metadata": {},
   "outputs": [],
   "source": []
  }
 ],
 "metadata": {
  "kernelspec": {
   "display_name": "Python 2",
   "language": "python",
   "name": "python2"
  },
  "language_info": {
   "codemirror_mode": {
    "name": "ipython",
    "version": 2
   },
   "file_extension": ".py",
   "mimetype": "text/x-python",
   "name": "python",
   "nbconvert_exporter": "python",
   "pygments_lexer": "ipython2",
   "version": "2.7.15rc1"
  }
 },
 "nbformat": 4,
 "nbformat_minor": 2
}
